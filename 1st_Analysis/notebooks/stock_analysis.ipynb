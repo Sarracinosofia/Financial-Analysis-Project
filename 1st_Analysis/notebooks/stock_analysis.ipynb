{
 "cells": [
  {
   "cell_type": "markdown",
   "id": "1cc5bc75-9f96-42db-9db0-433f4e944961",
   "metadata": {},
   "source": [
    "## 🧠 1. Project Introduction"
   ]
  },
  {
   "cell_type": "markdown",
   "id": "dd79df2b-4e8e-497f-9085-f9c7663086b7",
   "metadata": {},
   "source": [
    "# Financial Analysis of Tech Companies (2020–2024)\n",
    "\n",
    "This data science project performs a comparative analysis of the stock performance of five major U.S. technology companies — Apple (AAPL), Microsoft (MSFT), Amazon (AMZN), Tesla (TSLA), and Alphabet (GOOGL) — from 2020 to 2024.\n",
    "\n",
    "I will use Python-based tools to:\n",
    "- Download and clean historical stock data\n",
    "- Visualize stock price trends and volatility\n",
    "- Analyze daily returns and correlations\n",
    "- Provide insights for investors and portfolio strategies\n",
    "\n",
    "## Problem Statement and Objectives\n",
    "\n",
    "The objective of this analysis is to understand the behavior of these technology stocks in terms of returns, volatility, risk, and correlation. By doing so, i aim to identify patterns and characteristics that can help investors make informed decisions about portfolio construction and risk management within the technology sector.\n",
    "\n",
    "This study is particularly relevant for investors looking to balance risk and return by understanding how these key players perform individually and in relation to one another over time.\n"
   ]
  },
  {
   "cell_type": "markdown",
   "id": "406da5f8-bdd9-4fcb-ac99-409682b5cae7",
   "metadata": {},
   "source": [
    "## 🗂️ 2. Data Collection & Cleaning"
   ]
  },
  {
   "cell_type": "code",
   "execution_count": 5,
   "id": "66f9d541-86bc-485b-96a8-5fb75813be98",
   "metadata": {},
   "outputs": [],
   "source": [
    "!pip install yfinance --quiet"
   ]
  },
  {
   "cell_type": "markdown",
   "id": "e9fd3557-5408-425d-9d75-5e923685a9e9",
   "metadata": {},
   "source": [
    "Library imports:"
   ]
  },
  {
   "cell_type": "code",
   "execution_count": 7,
   "id": "7cfc75ab-e00a-467f-b62f-517e2c80ffbc",
   "metadata": {},
   "outputs": [
    {
     "name": "stdout",
     "output_type": "stream",
     "text": [
      "Libraries imported successfully.\n"
     ]
    }
   ],
   "source": [
    "import pandas as pd\n",
    "import numpy as np\n",
    "import matplotlib.pyplot as plt\n",
    "import seaborn as sns\n",
    "import yfinance as yf\n",
    "\n",
    "# Set visual style for plots\n",
    "sns.set(style=\"whitegrid\")\n",
    "plt.rcParams[\"figure.figsize\"] = (14, 6)\n",
    "\n",
    "print(\"Libraries imported successfully.\")"
   ]
  },
  {
   "cell_type": "code",
   "execution_count": 8,
   "id": "47dd43dc-397d-4ea3-ade8-af113cf6af5b",
   "metadata": {},
   "outputs": [
    {
     "name": "stdout",
     "output_type": "stream",
     "text": [
      "YF.download() has changed argument auto_adjust default to True\n"
     ]
    },
    {
     "name": "stderr",
     "output_type": "stream",
     "text": [
      "[*********************100%***********************]  5 of 5 completed"
     ]
    },
    {
     "name": "stdout",
     "output_type": "stream",
     "text": [
      "Ticker           AAPL       AMZN      GOOGL        MSFT       TSLA\n",
      "Date                                                              \n",
      "2020-01-02  72.620842  94.900497  68.108376  153.042282  28.684000\n",
      "2020-01-03  71.914803  93.748497  67.752083  151.136673  29.534000\n",
      "2020-01-06  72.487862  95.143997  69.557945  151.527313  30.102667\n",
      "2020-01-07  72.146935  95.343002  69.423592  150.145721  31.270666\n",
      "2020-01-08  73.307533  94.598503  69.917732  152.537338  32.809334\n"
     ]
    },
    {
     "name": "stderr",
     "output_type": "stream",
     "text": [
      "\n"
     ]
    }
   ],
   "source": [
    "tickers = ['AAPL', 'MSFT', 'AMZN', 'TSLA', 'GOOGL']\n",
    "\n",
    "data = yf.download(tickers, start=\"2020-01-01\", end=\"2025-01-01\")['Close']\n",
    "\n",
    "print(data.head())"
   ]
  },
  {
   "cell_type": "markdown",
   "id": "121445c8-df68-4361-95b1-95f70af90d0f",
   "metadata": {},
   "source": [
    "### Data cleaning\n",
    "We checked for missing values to ensure data completeness. No null values were found across all tickers, so no imputation or removal was necessary."
   ]
  },
  {
   "cell_type": "code",
   "execution_count": 10,
   "id": "4f1ccebc-e1de-443d-bfad-eed360dd66f4",
   "metadata": {},
   "outputs": [
    {
     "name": "stdout",
     "output_type": "stream",
     "text": [
      "Null values per ticker:\n",
      " Ticker\n",
      "AAPL     0\n",
      "AMZN     0\n",
      "GOOGL    0\n",
      "MSFT     0\n",
      "TSLA     0\n",
      "dtype: int64\n",
      "\n",
      "Total null values: 0\n"
     ]
    }
   ],
   "source": [
    "# Check for null values in the dataset\n",
    "null_counts = data.isnull().sum()\n",
    "print(\"Null values per ticker:\\n\", null_counts)\n",
    "\n",
    "# Show if there are rows with null values\n",
    "print(\"\\nTotal null values:\", data.isnull().values.sum())\n"
   ]
  },
  {
   "cell_type": "code",
   "execution_count": 16,
   "id": "47e32751-8528-4262-ba70-7614a6ca20c6",
   "metadata": {},
   "outputs": [
    {
     "name": "stdout",
     "output_type": "stream",
     "text": [
      "Duplicated rows: 0\n"
     ]
    }
   ],
   "source": [
    "duplicates = data.duplicated().sum()\n",
    "print(f\"Duplicated rows: {duplicates}\")\n",
    "data = data.drop_duplicates()"
   ]
  },
  {
   "cell_type": "code",
   "execution_count": 13,
   "id": "174efe9a-87ee-4ed1-b44d-0eb759392ab5",
   "metadata": {},
   "outputs": [],
   "source": [
    "data.to_csv('1st_Analysis/data/cleaned_stock_data.csv', index=True)"
   ]
  },
  {
   "cell_type": "markdown",
   "id": "14e43fd9-c2c3-4a2e-b8ac-7574c6660dd3",
   "metadata": {},
   "source": [
    "## 📊 3. Exploratory Data Analysis (EDA)"
   ]
  },
  {
   "cell_type": "markdown",
   "id": "bfd2c655-c2f3-4f19-9c70-f69e2dc5cabc",
   "metadata": {},
   "source": [
    "## 3.1 Historical prices"
   ]
  },
  {
   "cell_type": "code",
   "execution_count": null,
   "id": "4600c378-6642-48bb-8306-6fe51e1b0907",
   "metadata": {},
   "outputs": [],
   "source": [
    "import os\n",
    "import matplotlib.pyplot as plt\n",
    "\n",
    "# Create folder inside the project\n",
    "os.makedirs('outputs_graficos_eda', exist_ok=True)\n",
    "\n",
    "# Graph historical prices\n",
    "data.plot(title='Stock Prices of Tech Companies (2020–2024)')\n",
    "plt.xlabel('Date')\n",
    "plt.ylabel('Stock Price (USD)')\n",
    "plt.legend(title='Ticker')\n",
    "plt.tight_layout()\n",
    "\n",
    "# Save plots in outputs.graficos_eda\n",
    "plt.savefig('outputs_graficos_eda/precios_historicos_tech.png')\n",
    "\n",
    "plt.show()"
   ]
  },
  {
   "cell_type": "markdown",
   "id": "31665a90-a8ae-4fd2-ab28-79de325f3121",
   "metadata": {},
   "source": [
    "## Daily returns"
   ]
  },
  {
   "cell_type": "code",
   "execution_count": null,
   "id": "09401729-182f-4625-8d5d-743c9e291c66",
   "metadata": {},
   "outputs": [],
   "source": [
    "import os\n",
    "\n",
    "# Create folders inside the project\n",
    "os.makedirs('data/stocks', exist_ok=True)\n",
    "os.makedirs('data/etf', exist_ok=True)\n",
    "os.makedirs('data/crypto', exist_ok=True)\n",
    "\n",
    "# Calculate daily returns\n",
    "returns = data.pct_change().dropna()\n",
    "\n",
    "# Save datasets in the corresponding folders inside the project\n",
    "data.to_csv('data/stocks/tech_stocks.csv')\n",
    "returns.to_csv('data/stocks/tech_returns.csv')\n",
    "\n",
    "print(\"Files saved successfully inside 'data/stocks'\")"
   ]
  },
  {
   "cell_type": "code",
   "execution_count": null,
   "id": "a6fd0bcc-acbc-48f8-916d-a6a34ea0d99c",
   "metadata": {},
   "outputs": [],
   "source": [
    "import os\n",
    "import pandas as pd\n",
    "\n",
    "# Simulemos que tienes data para ejemplo:\n",
    "# data = pd.DataFrame({ 'A': [1,2,3,4], 'B': [4,3,2,1] })  # solo para prueba, reemplaza con tus datos reales\n",
    "\n",
    "# Crear carpetas\n",
    "os.makedirs('data/stocks', exist_ok=True)\n",
    "os.makedirs('data/etf', exist_ok=True)\n",
    "os.makedirs('data/crypto', exist_ok=True)\n",
    "\n",
    "# Calcular retornos diarios\n",
    "returns = data.pct_change().dropna()\n",
    "\n",
    "# Guardar archivos\n",
    "data.to_csv('data/stocks/tech_stocks.csv')\n",
    "returns.to_csv('data/stocks/tech_returns.csv')\n",
    "\n",
    "print(\"Archivos guardados correctamente.\")\n",
    "\n",
    "# Leer archivos\n",
    "tech_stocks = pd.read_csv('data/stocks/tech_stocks.csv', index_col=0, parse_dates=True)\n",
    "tech_returns = pd.read_csv('data/stocks/tech_returns.csv', index_col=0, parse_dates=True)\n",
    "\n",
    "print(\"Archivos leídos correctamente.\")\n"
   ]
  },
  {
   "cell_type": "markdown",
   "id": "02e9e584-89d5-4d98-98be-19a9370854e2",
   "metadata": {},
   "source": [
    "## 3.2 Boxplots of daily returns & Sharpe ratio per year"
   ]
  },
  {
   "cell_type": "code",
   "execution_count": null,
   "id": "bc8b47ba-a8cb-46df-b454-d2610e3f392a",
   "metadata": {},
   "outputs": [],
   "source": [
    "# Calculate daily returns\n",
    "daily_returns = data.pct_change().dropna()\n",
    "\n",
    "# ---- 1. Boxplots of daily returns ----\n",
    "plt.figure(figsize=(12, 6))\n",
    "sns.boxplot(data=daily_returns)\n",
    "plt.title(\"Boxplot of Daily Returns per Stock\")\n",
    "plt.ylabel(\"Daily Return\")\n",
    "plt.grid(True)\n",
    "plt.tight_layout()\n",
    "plt.show()\n",
    "\n",
    "# ---- 2. Sharpe Ratio per year (assuming risk-free rate ≈ 0) ----\n",
    "daily_returns['Year'] = daily_returns.index.year\n",
    "sharpe_ratios = daily_returns.groupby('Year').agg(lambda x: (x.mean() / x.std()) * np.sqrt(252))\n",
    "sharpe_ratios = sharpe_ratios.drop(columns='Year', errors='ignore')\n",
    "\n",
    "# Round and display\n",
    "print(sharpe_ratios.round(2))"
   ]
  },
  {
   "cell_type": "markdown",
   "id": "6d2102c2-f37e-4dca-91fd-d971e1c6d3d2",
   "metadata": {},
   "source": [
    "Performance Evaluation\n",
    "\n",
    "To deepen the exploratory analysis, we used the Sharpe Ratio and boxplots to compare the stocks.\n",
    "\n",
    "• Sharpe Ratio showed that 2023 was a strong year for most stocks, especially AAPL, MSFT, and AMZN.\n",
    "\n",
    "• 2022 was negative across the board, especially for TSLA.\n",
    "\n",
    "• Boxplots revealed that TSLA is the most volatile, while AAPL and MSFT show more stable daily returns."
   ]
  },
  {
   "cell_type": "markdown",
   "id": "2be7df38-d688-49aa-81c7-4ef09dff1c87",
   "metadata": {},
   "source": [
    "## Comparison of annual volatility per share"
   ]
  },
  {
   "cell_type": "code",
   "execution_count": null,
   "id": "77250e37-efdd-4185-b14f-1c142150f7c1",
   "metadata": {},
   "outputs": [],
   "source": [
    "# Calculate daily returns\n",
    "daily_returns = data.pct_change().dropna()\n",
    "\n",
    "# Calculate annualized volatility per year (standard deviation * sqrt(252))\n",
    "volatility_annual = daily_returns.resample('YE').std() * (252 ** 0.5)\n",
    "\n",
    "# Rename index to year\n",
    "volatility_annual.index = volatility_annual.index.year\n",
    "\n",
    "# Print volatility\n",
    "print(volatility_annual.round(2))\n",
    "\n",
    "# Plot volatility comparison\n",
    "plt.figure(figsize=(10, 6))\n",
    "volatility_annual.plot(kind='bar')\n",
    "plt.title('Annual Volatility (%) by Stock (2020–2024)')\n",
    "plt.xlabel('Year')\n",
    "plt.ylabel('Annualized Volatility')\n",
    "plt.legend(title='Ticker')\n",
    "plt.grid(True, linestyle='--', alpha=0.5)\n",
    "plt.tight_layout()\n",
    "plt.savefig('outputs_graficos_eda/volatility_annual_comparison.png')\n",
    "plt.show()"
   ]
  },
  {
   "cell_type": "markdown",
   "id": "2fdbfe32-1264-48a3-adac-d1c64decd3c7",
   "metadata": {},
   "source": [
    "🔍 Insights:\n",
    "\n",
    "Tesla (TSLA) was consistently the most volatile stock each year, significantly more than the others.\n",
    "\n",
    "2020 was a highly volatile year overall (likely due to the pandemic onset), especially for Apple and Tesla.\n",
    "\n",
    "2021 saw much lower volatility across the board — a relatively stable year in the market.\n",
    "\n",
    "2022 showed a sharp increase in volatility, reflecting economic uncertainty, rising interest rates, and inflation concerns.\n",
    "\n",
    "2023 and 2024 were calmer years in terms of market behavior, though Tesla remained highly volatile, even when other stocks became more stable."
   ]
  },
  {
   "cell_type": "markdown",
   "id": "b9c5de42-d957-4a94-a314-87921c2fdf0b",
   "metadata": {},
   "source": [
    "## Annualized volatility (2020-2024)¶"
   ]
  },
  {
   "cell_type": "code",
   "execution_count": null,
   "id": "c6f34dc1-b6eb-4e53-a8ed-bda3bbb91f14",
   "metadata": {},
   "outputs": [],
   "source": [
    "# Calculate annualized volatility from daily returns\n",
    "volatility = returns.std() * np.sqrt(252)  # Approx. 252 business days in a year\n",
    "\n",
    "# View volatility sorted from highest to lowest\n",
    "volatility.sort_values(ascending=False).plot(kind='bar', title='Annualized Volatility (2020–2024)')\n",
    "plt.ylabel('Volatility')\n",
    "plt.tight_layout()\n",
    "plt.savefig('outputs/graphs/volatilidad_tech.png')\n",
    "plt.show()\n",
    "\n",
    "# Save the volatility table to outputs/tables\n",
    "volatility.to_csv('outputs/tables/volatilidad_tech.csv')\n",
    "\n",
    "print(\"Volatility analysis completed and saved.\")"
   ]
  },
  {
   "cell_type": "markdown",
   "id": "c40d8e5b-09d0-4b77-80ef-7abe35ce4d32",
   "metadata": {},
   "source": [
    "Tesla (TSLA) exhibited the highest volatility (67.18%), indicating greater price fluctuations and higher risk. Amazon (AMZN) followed with moderate volatility (35.96%). In contrast, Microsoft (MSFT), Apple (AAPL), and Alphabet (GOOGL) showed more stable performance (30–32%), reflecting lower investment risk.\n",
    "\n"
   ]
  },
  {
   "cell_type": "markdown",
   "id": "48173a3c-01da-4271-aac5-d64c7afec547",
   "metadata": {},
   "source": [
    "## 3.3 Calculation of descriptive statistics for daily returns"
   ]
  },
  {
   "cell_type": "code",
   "execution_count": null,
   "id": "b11a315d-bbb8-4bae-8c5a-00b8129ba8d8",
   "metadata": {},
   "outputs": [],
   "source": [
    "from scipy.stats import skew, kurtosis\n",
    "\n",
    "# Calculate statistics for each ticker\n",
    "mean_returns = daily_returns.mean()\n",
    "volatility = daily_returns.std()\n",
    "skewness = daily_returns.apply(skew)\n",
    "kurtosis_ = daily_returns.apply(kurtosis)\n",
    "\n",
    "# Create summary in DataFrame\n",
    "summary_stats = pd.DataFrame({\n",
    "    'Mean Daily Return': mean_returns,\n",
    "    'Volatility (Std Dev)': volatility,\n",
    "    'Skewness': skewness,\n",
    "    'Kurtosis': kurtosis_\n",
    "})\n",
    "\n",
    "summary_stats = summary_stats.round(4)\n",
    "print(summary_stats)"
   ]
  },
  {
   "cell_type": "markdown",
   "id": "f6346114-b2f9-439c-977d-b607ac354194",
   "metadata": {},
   "source": [
    "### Interpretation of the statistical summary (2020–2024)\n",
    "\n",
    "The table shows the main descriptive statistics calculated from the adjusted daily returns of five technology companies.\n",
    "\n",
    "• Mean Daily Return:\n",
    "Tesla (TSLA) has the highest mean daily return (0.0030), indicating greater average daily growth over the analyzed period. Apple (AAPL) has a mean daily return of 0.0012, followed by Google (GOOGL) and Microsoft (MSFT) with 0.0010, and Amazon (AMZN) with 0.0009. This suggests that Tesla offered the highest average daily return but, as we will see, with higher volatility.\n",
    "\n",
    "• Volatility (Standard Deviation):\n",
    "TSLA also shows the highest volatility (0.0423), nearly twice that of the other stocks, indicating that its price is much more unstable and risky. Amazon (0.0227) has the second highest volatility, while Microsoft (0.0192) and Apple (0.0200) are the most stable.\n",
    "\n",
    "• Skewness:\n",
    "Most stocks have skewness values close to zero, indicating relatively symmetric distributions of daily returns. Tesla (0.2121) and Apple (0.1055) show slight positive skewness, suggesting a tendency towards more positive daily returns, though with some asymmetry. Google and Microsoft present very slight negative skewness, indicating returns slightly tilted toward small losses.\n",
    "\n",
    "• Kurtosis:\n",
    "All assets show kurtosis values greater than 3, indicating heavy tails (more extreme events than predicted by a normal distribution). Microsoft has the highest kurtosis (7.0872), suggesting a higher frequency of extreme returns, while Tesla has the lowest kurtosis (3.1031) within this group, though it still indicates heavy tails.\n",
    "\n",
    "Summary:\n",
    "\n",
    "Tesla stands out for having the highest mean daily return but also the highest volatility and skewness, showing a profile of higher risk and potential reward. Microsoft and Apple are the stocks with the lowest volatility and greater stability in daily returns, although with a higher probability of extreme events according to kurtosis."
   ]
  },
  {
   "cell_type": "markdown",
   "id": "03ad50d5-e745-4dcf-85bb-7a959786b4f6",
   "metadata": {},
   "source": [
    "## Annual return comparison per stock (2020–2024)"
   ]
  },
  {
   "cell_type": "code",
   "execution_count": null,
   "id": "05d882c4-31d2-45f7-ae34-9a3407bdac1c",
   "metadata": {},
   "outputs": [],
   "source": [
    "# Calculate annual returns: percentage change from last day of each year\n",
    "annual_returns = data.resample('YE').last().pct_change().dropna() * 100\n",
    "\n",
    "# Rename index to year only\n",
    "annual_returns.index = annual_returns.index.year\n",
    "\n",
    "# Print the annual return table\n",
    "print(annual_returns.round(2))\n",
    "\n",
    "# Plot annual return comparison\n",
    "plt.figure(figsize=(10, 6))\n",
    "annual_returns.plot(kind='bar')\n",
    "plt.title('Annual Return Comparison (%) by Stock (2020–2024)')\n",
    "plt.xlabel('Year')\n",
    "plt.ylabel('Annual Return (%)')\n",
    "plt.legend(title='Ticker')\n",
    "plt.grid(True, linestyle='--', alpha=0.5)\n",
    "plt.tight_layout()\n",
    "\n",
    "# Save plot (optional)\n",
    "plt.savefig('outputs_graficos_eda/annual_returns_comparison.png')\n",
    "plt.show()"
   ]
  },
  {
   "cell_type": "markdown",
   "id": "3ac567df-d16f-4ed9-a232-5ddf49919247",
   "metadata": {},
   "source": [
    "📌 What i observed:\n",
    "\n",
    "2021: It was a very positive year for all stocks, especially Google (+65%) and Microsoft (+52%).\n",
    "\n",
    "2022: All stocks fell sharply, with Amazon (-49%) and Tesla (-65%) particularly notable. This likely reflects the impact of interest rate hikes, inflation, and capital outflows from tech.\n",
    "\n",
    "2023: Impressive recovery, especially for Tesla (+101%) and Amazon (+80%).\n",
    "\n",
    "2024: Good overall performance, although more moderate. Tesla remains strong at +62%, while Microsoft shows the lowest return (+12%)."
   ]
  },
  {
   "cell_type": "markdown",
   "id": "ad5c78aa-df54-4216-a05e-982697707f72",
   "metadata": {},
   "source": [
    "## Cumulative returns (2020-2024)"
   ]
  },
  {
   "cell_type": "code",
   "execution_count": null,
   "id": "2df1c9d2-3fcd-4f6a-8b28-79ead28bec45",
   "metadata": {},
   "outputs": [],
   "source": [
    "# Calculate cumulative returns\n",
    "cumulative_returns = (1 + returns).cumprod()\n",
    "\n",
    "# Graphing cumulative returns\n",
    "cumulative_returns.plot(title='Cumulative Returns of Tech Companies (2020–2024)')\n",
    "plt.xlabel('Date')\n",
    "plt.ylabel('Cumulative Return (Factor)')\n",
    "plt.legend(title='Ticker')\n",
    "plt.tight_layout()\n",
    "\n",
    "# Save graphs in outputs/graphs\n",
    "plt.savefig('outputs/graphs/retornos_acumulados_tech.png')\n",
    "plt.show()\n",
    "\n",
    "# Save tables\n",
    "cumulative_returns.to_csv('outputs/tables/retornos_acumulados_tech.csv')\n",
    "\n",
    "print(\"Cumulative returns analysis completed and saved.\")"
   ]
  },
  {
   "cell_type": "markdown",
   "id": "53e4101d-7440-4c6b-a958-da0df991daad",
   "metadata": {},
   "source": [
    "📈 Cumulative Returns Analysis (2020–2024)\n",
    "\n",
    "Among the five companies analyzed, Tesla (TSLA) stands out with a significantly higher cumulative return, reaching over 16x its initial value at certain points during the period. This reflects explosive growth—paired with high volatility—that clearly outpaced the rest of the tech sector.\n",
    "In contrast, Apple (AAPL), Microsoft (MSFT), Amazon (AMZN), and Alphabet (GOOGL) followed more stable and closely aligned trajectories, with cumulative returns ranging between 2x and 3x. These companies presented a more conservative growth profile, suitable for lower-risk investment strategies.\n",
    "The chart also highlights that despite its high returns, Tesla experienced several major drawdowns, indicating that investing in TSLA requires a higher risk tolerance.\n",
    "\n",
    "This analysis is useful for understanding the risk-return trade-off when building a diversified portfolio in the tech sector."
   ]
  },
  {
   "cell_type": "markdown",
   "id": "6fbff2e9-6d6c-4e29-99e0-a4dc7269ef1d",
   "metadata": {},
   "source": [
    "## Final returns (Total return from 2020 to 2024)"
   ]
  },
  {
   "cell_type": "code",
   "execution_count": null,
   "id": "4e411e58-9baa-40e1-9852-62f46d875fd8",
   "metadata": {},
   "outputs": [],
   "source": [
    "# Final returns (cumulative return at the end of period)\n",
    "final_returns = cumulative_returns.iloc[-1].sort_values(ascending=False)\n",
    "\n",
    "# Annualized volatility\n",
    "volatility = returns.std() * np.sqrt(252)\n",
    "\n",
    "# Drawdown calculation\n",
    "rolling_max = cumulative_returns.cummax()\n",
    "drawdown = (cumulative_returns - rolling_max) / rolling_max\n",
    "max_drawdown = drawdown.min()\n",
    "\n",
    "# Sharpe Ratio (assuming risk-free rate = 0)\n",
    "sharpe_ratio = (returns.mean() * 252) / (returns.std() * np.sqrt(252))\n",
    "\n",
    "# Create summary table\n",
    "summary_table = pd.DataFrame({\n",
    "    'Final Return': final_returns,\n",
    "    'Volatility': volatility,\n",
    "    'Max Drawdown': max_drawdown,\n",
    "    'Sharpe Ratio': sharpe_ratio\n",
    "})\n",
    "\n",
    "# Sort table by Final Return\n",
    "summary_table = summary_table.sort_values(by='Final Return', ascending=False)\n",
    "\n",
    "# Plot: Final Return Ranking\n",
    "plt.figure(figsize=(10,6))\n",
    "final_returns.plot(kind='bar', color='skyblue')\n",
    "plt.title('Investment Ranking by Final Cumulative Return (2020–2024)')\n",
    "plt.ylabel('Cumulative Return')\n",
    "plt.xlabel('Ticker')\n",
    "plt.tight_layout()\n",
    "plt.savefig('outputs/graphs/ranking_final.png')\n",
    "plt.show()\n",
    "\n",
    "# Save summary table\n",
    "summary_table.to_csv('outputs/tables/summary_table.csv')"
   ]
  },
  {
   "cell_type": "markdown",
   "id": "0cd796a2-e25a-44ec-8a86-3cd6391538c5",
   "metadata": {},
   "source": [
    "Analysis and conclusions\n",
    "\n",
    "• Return vs Volatility\n",
    "\n",
    "TSLA had the highest final return (around 1408%), but also the highest volatility (67%), showing that it’s a high-risk, high-reward stock. In contrast, MSFT and AAPL had more moderate returns (around 2.7 to 3.4 times) and lower volatility (about 30%), indicating a more stable performance. This clearly reflects the risk-return tradeoff.\n",
    "\n",
    "• Sharpe Ratio and Risk-Adjusted Performance\n",
    "\n",
    "TSLA also has the highest Sharpe Ratio (1.12), meaning it compensated for its risk better than the others despite the volatility. AAPL and MSFT have solid Sharpe Ratios above 0.8, which is good. AMZN had the lowest Sharpe (~0.65), showing its returns didn’t fully justify the risk taken.\n",
    "\n",
    "• Maximum Drawdown\n",
    "\n",
    "TSLA experienced a maximum drawdown of 73%, meaning it had significant dips along the way. AAPL and MSFT had more moderate drawdowns (31-37%), which might be more appealing to risk-averse investors.\n",
    "\n",
    "• Correlation Between Stocks\n",
    "\n",
    "AAPL, MSFT, GOOGL, and AMZN are highly correlated (above 0.59), so they tend to move together. TSLA is less correlated (0.40-0.48), which could help diversify a tech-focused portfolio.\n",
    "\n",
    "📌 Recommendations:\n",
    "Even though TSLA has the highest return and Sharpe Ratio, its high volatility and drawdown make it risky. Combining it with more stable stocks like AAPL or MSFT can help balance risk and reward. It’s important not to focus only on returns but also on metrics like Sharpe Ratio and drawdown to get a clearer picture of risk. Including less correlated stocks can improve diversification and reduce overall portfolio volatility."
   ]
  },
  {
   "cell_type": "markdown",
   "id": "01681d4b-1cff-494a-8e0d-18893ace2b4c",
   "metadata": {},
   "source": [
    "## 3.5 Sharpe ratio analysis (2020–2024)"
   ]
  },
  {
   "cell_type": "code",
   "execution_count": null,
   "id": "1db812e9-7522-4bf6-924e-308b685f8d99",
   "metadata": {},
   "outputs": [],
   "source": [
    "# Calculate Sharpe Ratio (assuming risk-free rate = 0)\n",
    "sharpe_ratio = returns.mean() / returns.std() * np.sqrt(252)\n",
    "\n",
    "# Sort and plot\n",
    "sharpe_ratio.sort_values(ascending=False).plot(kind='bar', title='Sharpe Ratio (2020–2024)')\n",
    "plt.ylabel('Sharpe Ratio')\n",
    "plt.tight_layout()\n",
    "plt.savefig('outputs/graphs/sharpe_ratio_tech.png')\n",
    "plt.show()\n",
    "\n",
    "# Save table\n",
    "sharpe_ratio.to_csv('outputs/tables/sharpe_ratio_tech.csv')\n",
    "\n",
    "print(\"Sharpe Ratio analysis completed and saved.\")"
   ]
  },
  {
   "cell_type": "markdown",
   "id": "da62bd11-ccab-4b7a-a980-a52e86a20caa",
   "metadata": {},
   "source": [
    "📈 Interpretation of Sharpe Ratio (2020–2024)\n",
    "\n",
    "The Sharpe Ratio measures risk-adjusted return. The higher the ratio, the better the investment’s return relative to the amount of risk taken.\n",
    "\n",
    "🔍 Key insights:\n",
    "\n",
    "• TSLA had the highest Sharpe Ratio (1.12), indicating it offered the best return per unit of risk, despite its high volatility.\n",
    "\n",
    "• AAPL showed a strong Sharpe Ratio (0.94), making it a solid and efficient investment.\n",
    "\n",
    "• MSFT and GOOGL had intermediate values (0.82 and 0.79, respectively), suggesting a balanced risk-return performance.\n",
    "\n",
    "• AMZN had the lowest ratio (0.65), meaning its returns didn’t compensate for the risk as effectively as the others.\n",
    "\n",
    "📌 Conclusion:\n",
    "This analysis shows that Tesla delivered the highest risk-adjusted returns, while Apple and Microsoft stood out for their stability and efficiency. Amazon, on the other hand, underperformed relative to the risk taken, which may influence portfolio decisions depending on the investor's risk tolerance."
   ]
  },
  {
   "cell_type": "markdown",
   "id": "62675f5a-6947-4679-a1ba-ab461a4d5627",
   "metadata": {},
   "source": [
    "## ⚖️ Scatter Plot Risk vs. Return"
   ]
  },
  {
   "cell_type": "code",
   "execution_count": null,
   "id": "d09e8036-a725-4d8c-9f93-f8a849ad5b07",
   "metadata": {},
   "outputs": [],
   "source": [
    "# Mean and std dev of daily returns (annualized)\n",
    "mean_returns = daily_returns.mean() * 252\n",
    "std_returns = daily_returns.std() * (252 ** 0.5)\n",
    "\n",
    "# Scatter plot\n",
    "plt.figure(figsize=(8, 6))\n",
    "plt.scatter(std_returns, mean_returns, s=100)\n",
    "\n",
    "# Annotate each point\n",
    "for ticker in tickers:\n",
    "    plt.annotate(ticker, (std_returns[ticker], mean_returns[ticker]), fontsize=12)\n",
    "\n",
    "plt.title('Risk vs Return (2020–2024)')\n",
    "plt.xlabel('Volatility (Risk)')\n",
    "plt.ylabel('Annual Return')\n",
    "plt.grid(True, linestyle='--', alpha=0.5)\n",
    "plt.tight_layout()\n",
    "plt.savefig('outputs_graficos_eda/risk_vs_return_scatter.png')\n",
    "plt.show()"
   ]
  },
  {
   "cell_type": "markdown",
   "id": "7e0d9619-7aa6-4023-a71f-5bf43f4955db",
   "metadata": {},
   "source": [
    "Risk vs Return (2020–2024)\n",
    "\n",
    "This scatter plot compares the average annual return and volatility of AAPL, AMZN, GOOGL, MSFT, and TSLA.\n",
    "\n",
    "•\tTSLA stands out with the highest return and highest risk, showing a classic high-risk, high-reward profile.\n",
    "\n",
    "•\tAAPL and MSFT offer solid returns with low volatility, making them attractive for balanced investors.\n",
    "\n",
    "•\tGOOGL and especially AMZN show lower returns with higher risk, appearing less efficient over this period.\n",
    "\n",
    "Conclusion: AAPL and MSFT provided the best risk-adjusted performance, while TSLA had the highest growth potential with greater risk."
   ]
  },
  {
   "cell_type": "markdown",
   "id": "25d72695-8138-46d0-8f0e-c91f6fc4f653",
   "metadata": {},
   "source": [
    "## 3.6 Drawdown analysis (Maximum losses from peak)\n",
    "The drawdown measures the decline of a stock from its historical peak over time. It helps assess the potential risk or worst-case scenario an investor might have experienced."
   ]
  },
  {
   "cell_type": "code",
   "execution_count": null,
   "id": "7fe281bd-9e8a-4f7b-93b3-9d1ffc21832d",
   "metadata": {},
   "outputs": [],
   "source": [
    "# Calculate drawdown \n",
    "rolling_max = cumulative_returns.cummax()\n",
    "drawdown = cumulative_returns / rolling_max - 1\n",
    "\n",
    "# Graph drawdown\n",
    "drawdown.plot(title='Drawdown of Tech Companies (2020–2024)')\n",
    "plt.xlabel('Date')\n",
    "plt.ylabel('Drawdown (%)')\n",
    "plt.legend(title='Ticker')\n",
    "plt.tight_layout()\n",
    "plt.savefig('outputs/graphs/drawdown_tech.png')\n",
    "plt.show()\n",
    "\n",
    "# Save table\n",
    "drawdown.to_csv('outputs/tables/drawdown_tech.csv')\n",
    "\n",
    "print(\"Drawdown analysis completed and saved.\")"
   ]
  },
  {
   "cell_type": "markdown",
   "id": "6294e0e1-0848-41bf-bc18-6599381e1a93",
   "metadata": {},
   "source": [
    "📉 Interpretation of Drawdown for Tech Companies (2020–2024)\n",
    "\n",
    "The chart displays the daily drawdown of five major U.S. technology companies: Apple (AAPL), Amazon (AMZN), Google (GOOGL), Microsoft (MSFT), and Tesla (TSLA) from 2020 to 2024.\n",
    "Drawdown measures the percentage drop from a stock’s peak value to its subsequent lowest point. The lower the drawdown, the more significant the loss from the peak.\n",
    "\n",
    "Key Observations:\n",
    "\n",
    "• Tesla experienced the largest drawdowns, reaching up to -70% from peak values. This highlights Tesla’s high volatility and risk despite its strong return potential.\n",
    "\n",
    "• Amazon and Google also showed notable drawdowns, around -50%, particularly during 2022 and parts of 2023, likely reflecting market corrections and broader economic uncertainty.\n",
    "\n",
    "• Apple and Microsoft had more stable profiles, with drawdowns generally between -20% to -30%, indicating their relatively defensive nature in the tech sector.\n",
    "\n",
    "📌 Conclusion:\n",
    "Drawdown analysis offers a clear view of each stock’s historical risk exposure.\n",
    "Investors seeking stability may favor Microsoft or Apple, while those pursuing higher returns (and accepting higher risk) might consider Tesla."
   ]
  },
  {
   "cell_type": "markdown",
   "id": "f94c0403-f971-40f5-a23d-3b1ae40ee2bc",
   "metadata": {},
   "source": [
    "## 3.7 Heatmap of correlation between stocks (2020–2024)"
   ]
  },
  {
   "cell_type": "code",
   "execution_count": null,
   "id": "490e24c3-da14-4b15-959b-fdf0fa0c6091",
   "metadata": {},
   "outputs": [],
   "source": [
    "# Calculate correlation matrix\n",
    "corr_matrix = returns.corr()\n",
    "\n",
    "# Plot heatmap\n",
    "sns.heatmap(corr_matrix, annot=True, cmap='coolwarm', linewidths=0.5)\n",
    "plt.title('Correlation of Daily Returns')\n",
    "plt.tight_layout()\n",
    "plt.savefig('outputs/graphs/correlacion_tech.png')\n",
    "plt.show()\n",
    "\n",
    "# Save correlation table\n",
    "corr_matrix.to_csv('outputs/tables/correlacion_tech.csv')\n",
    "print(\"Correlation analysis completed and saved.\")"
   ]
  },
  {
   "cell_type": "markdown",
   "id": "45ba16cf-ba3a-407f-a60d-a91408d2f592",
   "metadata": {},
   "source": [
    "🔗 Interpretation: Correlation of Daily Returns (2020–2024)\n",
    "\n",
    "Microsoft (MSFT) and Apple (AAPL) show a strong positive correlation (0.75), indicating their stock prices often move in the same direction. Overall, the tech stocks—except Tesla (TSLA)—exhibit moderate to strong correlations, suggesting similar market influences. Tesla stands out with weaker correlations to the rest, reflecting its unique risk profile and more independent price movements."
   ]
  },
  {
   "cell_type": "markdown",
   "id": "6913e465-5e10-4335-804b-8220d71c83fe",
   "metadata": {},
   "source": [
    "## 🧾 4. Summary and Key Insights\n",
    "\n",
    "This initial exploratory analysis evaluated the historical performance of five major tech stocks — Apple (AAPL), Amazon (AMZN), Google (GOOGL), Microsoft (MSFT), and Tesla (TSLA) — over the 2020–2024 period. The study focused on key market metrics, including returns, volatility, correlation, and risk-adjusted performance.\n",
    "\n",
    "Main Findings\n",
    "\n",
    "•\tAnnual Returns:\n",
    "2023 and 2024 were strong years across the board, with TSLA and AMZN leading in absolute returns.\n",
    "2022 was uniformly negative, reflecting broader macroeconomic headwinds.\t\n",
    "\n",
    "•\tVolatility:\n",
    "TSLA exhibited consistently high volatility, reinforcing its speculative and high-risk profile.\n",
    "AAPL and MSFT stood out for their lower risk and return stability.\n",
    "\n",
    "•\tCorrelations:\n",
    "Stocks were highly correlated, especially during volatile market phases — a critical consideration for portfolio diversification.\n",
    "\n",
    "•\tRisk-Return Tradeoff:\n",
    "Higher returns were generally associated with higher volatility. TSLA showed extreme values on both axes.\n",
    "\n",
    "•\tSharpe Ratios (Risk-Adjusted Performance):\n",
    "2023 delivered the best Sharpe ratios across all assets.\n",
    "GOOGL and MSFT outperformed in 2021.\n",
    "2022 showed negative Sharpe ratios for all, indicating poor compensation for risk.\n",
    "\n",
    "•\tDaily Return Distributions (Boxplots):\n",
    "TSLA showed the widest spread and most outliers, consistent with its volatility.\n",
    "MSFT and AAPL had narrower, more symmetric distributions, suggesting more predictable price behavior.\n",
    "\n",
    "\n",
    "✅ Final Thoughts\n",
    "\n",
    "This analysis establishes a strong foundation for understanding the behavior and dynamics of these key tech stocks.\n",
    "Notably, MSFT, AAPL, and GOOGL demonstrated consistent and efficient risk-adjusted performance, making them attractive for conservative or long-term investors.\n",
    "Conversely, TSLA offers high return potential but with significant volatility, better suited for high-risk portfolios.\n",
    "These insights will directly inform the next project phase: technical indicators, anomaly detection, and trading signal generation."
   ]
  },
  {
   "cell_type": "code",
   "execution_count": null,
   "id": "c58cd968-4ab1-4651-8c7f-245675a0d4ff",
   "metadata": {},
   "outputs": [],
   "source": []
  }
 ],
 "metadata": {
  "kernelspec": {
   "display_name": "Python [conda env:base] *",
   "language": "python",
   "name": "conda-base-py"
  },
  "language_info": {
   "codemirror_mode": {
    "name": "ipython",
    "version": 3
   },
   "file_extension": ".py",
   "mimetype": "text/x-python",
   "name": "python",
   "nbconvert_exporter": "python",
   "pygments_lexer": "ipython3",
   "version": "3.12.7"
  }
 },
 "nbformat": 4,
 "nbformat_minor": 5
}
